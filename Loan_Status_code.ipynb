{
  "nbformat": 4,
  "nbformat_minor": 0,
  "metadata": {
    "colab": {
      "name": "Loan_Status_code.ipynb",
      "provenance": [],
      "collapsed_sections": []
    },
    "kernelspec": {
      "name": "python3",
      "display_name": "Python 3"
    }
  },
  "cells": [
    {
      "cell_type": "markdown",
      "metadata": {
        "id": "9AE1VOyoacxV"
      },
      "source": [
        "# Comparative analysis of various ML models on Loan Status Dataset"
      ]
    },
    {
      "cell_type": "markdown",
      "metadata": {
        "id": "8ZLteYXDjsf9"
      },
      "source": [
        "RISHABH SINGH BAIS 18BCD7009"
      ]
    },
    {
      "cell_type": "code",
      "metadata": {
        "id": "r7-MPrfvdy2z"
      },
      "source": [
        "import pandas as pd\n",
        "import numpy as np\n",
        "import matplotlib.pyplot as plt\n",
        "import seaborn as sns"
      ],
      "execution_count": null,
      "outputs": []
    },
    {
      "cell_type": "code",
      "metadata": {
        "id": "gjxpNyG1dmwM",
        "colab": {
          "base_uri": "https://localhost:8080/"
        },
        "outputId": "6cd31eb0-18cc-40d7-840d-3c9709c20e73"
      },
      "source": [
        "from google.colab import drive\n",
        "drive.mount('/content/drive')"
      ],
      "execution_count": null,
      "outputs": [
        {
          "output_type": "stream",
          "name": "stdout",
          "text": [
            "Mounted at /content/drive\n"
          ]
        }
      ]
    },
    {
      "cell_type": "code",
      "metadata": {
        "id": "svEzwmKOdt3N"
      },
      "source": [
        "df = pd.read_csv(\"/content/drive/MyDrive/mydatatset/credit_train.csv\")"
      ],
      "execution_count": null,
      "outputs": []
    },
    {
      "cell_type": "code",
      "metadata": {
        "colab": {
          "base_uri": "https://localhost:8080/",
          "height": 530
        },
        "id": "RbI_w_-udt6U",
        "outputId": "8eb9b852-4f11-4bb2-8c5c-e12d2093d01e"
      },
      "source": [
        "df.head()"
      ],
      "execution_count": null,
      "outputs": [
        {
          "output_type": "execute_result",
          "data": {
            "text/html": [
              "<div>\n",
              "<style scoped>\n",
              "    .dataframe tbody tr th:only-of-type {\n",
              "        vertical-align: middle;\n",
              "    }\n",
              "\n",
              "    .dataframe tbody tr th {\n",
              "        vertical-align: top;\n",
              "    }\n",
              "\n",
              "    .dataframe thead th {\n",
              "        text-align: right;\n",
              "    }\n",
              "</style>\n",
              "<table border=\"1\" class=\"dataframe\">\n",
              "  <thead>\n",
              "    <tr style=\"text-align: right;\">\n",
              "      <th></th>\n",
              "      <th>Loan ID</th>\n",
              "      <th>Customer ID</th>\n",
              "      <th>Loan Status</th>\n",
              "      <th>Current Loan Amount</th>\n",
              "      <th>Term</th>\n",
              "      <th>Credit Score</th>\n",
              "      <th>Annual Income</th>\n",
              "      <th>Years in current job</th>\n",
              "      <th>Home Ownership</th>\n",
              "      <th>Purpose</th>\n",
              "      <th>Monthly Debt</th>\n",
              "      <th>Years of Credit History</th>\n",
              "      <th>Months since last delinquent</th>\n",
              "      <th>Number of Open Accounts</th>\n",
              "      <th>Number of Credit Problems</th>\n",
              "      <th>Current Credit Balance</th>\n",
              "      <th>Maximum Open Credit</th>\n",
              "      <th>Bankruptcies</th>\n",
              "      <th>Tax Liens</th>\n",
              "    </tr>\n",
              "  </thead>\n",
              "  <tbody>\n",
              "    <tr>\n",
              "      <th>0</th>\n",
              "      <td>14dd8831-6af5-400b-83ec-68e61888a048</td>\n",
              "      <td>981165ec-3274-42f5-a3b4-d104041a9ca9</td>\n",
              "      <td>Fully Paid</td>\n",
              "      <td>445412.0</td>\n",
              "      <td>Short Term</td>\n",
              "      <td>709.0</td>\n",
              "      <td>1167493.0</td>\n",
              "      <td>8 years</td>\n",
              "      <td>Home Mortgage</td>\n",
              "      <td>Home Improvements</td>\n",
              "      <td>5214.74</td>\n",
              "      <td>17.2</td>\n",
              "      <td>NaN</td>\n",
              "      <td>6.0</td>\n",
              "      <td>1.0</td>\n",
              "      <td>228190.0</td>\n",
              "      <td>416746.0</td>\n",
              "      <td>1.0</td>\n",
              "      <td>0.0</td>\n",
              "    </tr>\n",
              "    <tr>\n",
              "      <th>1</th>\n",
              "      <td>4771cc26-131a-45db-b5aa-537ea4ba5342</td>\n",
              "      <td>2de017a3-2e01-49cb-a581-08169e83be29</td>\n",
              "      <td>Fully Paid</td>\n",
              "      <td>262328.0</td>\n",
              "      <td>Short Term</td>\n",
              "      <td>NaN</td>\n",
              "      <td>NaN</td>\n",
              "      <td>10+ years</td>\n",
              "      <td>Home Mortgage</td>\n",
              "      <td>Debt Consolidation</td>\n",
              "      <td>33295.98</td>\n",
              "      <td>21.1</td>\n",
              "      <td>8.0</td>\n",
              "      <td>35.0</td>\n",
              "      <td>0.0</td>\n",
              "      <td>229976.0</td>\n",
              "      <td>850784.0</td>\n",
              "      <td>0.0</td>\n",
              "      <td>0.0</td>\n",
              "    </tr>\n",
              "    <tr>\n",
              "      <th>2</th>\n",
              "      <td>4eed4e6a-aa2f-4c91-8651-ce984ee8fb26</td>\n",
              "      <td>5efb2b2b-bf11-4dfd-a572-3761a2694725</td>\n",
              "      <td>Fully Paid</td>\n",
              "      <td>99999999.0</td>\n",
              "      <td>Short Term</td>\n",
              "      <td>741.0</td>\n",
              "      <td>2231892.0</td>\n",
              "      <td>8 years</td>\n",
              "      <td>Own Home</td>\n",
              "      <td>Debt Consolidation</td>\n",
              "      <td>29200.53</td>\n",
              "      <td>14.9</td>\n",
              "      <td>29.0</td>\n",
              "      <td>18.0</td>\n",
              "      <td>1.0</td>\n",
              "      <td>297996.0</td>\n",
              "      <td>750090.0</td>\n",
              "      <td>0.0</td>\n",
              "      <td>0.0</td>\n",
              "    </tr>\n",
              "    <tr>\n",
              "      <th>3</th>\n",
              "      <td>77598f7b-32e7-4e3b-a6e5-06ba0d98fe8a</td>\n",
              "      <td>e777faab-98ae-45af-9a86-7ce5b33b1011</td>\n",
              "      <td>Fully Paid</td>\n",
              "      <td>347666.0</td>\n",
              "      <td>Long Term</td>\n",
              "      <td>721.0</td>\n",
              "      <td>806949.0</td>\n",
              "      <td>3 years</td>\n",
              "      <td>Own Home</td>\n",
              "      <td>Debt Consolidation</td>\n",
              "      <td>8741.90</td>\n",
              "      <td>12.0</td>\n",
              "      <td>NaN</td>\n",
              "      <td>9.0</td>\n",
              "      <td>0.0</td>\n",
              "      <td>256329.0</td>\n",
              "      <td>386958.0</td>\n",
              "      <td>0.0</td>\n",
              "      <td>0.0</td>\n",
              "    </tr>\n",
              "    <tr>\n",
              "      <th>4</th>\n",
              "      <td>d4062e70-befa-4995-8643-a0de73938182</td>\n",
              "      <td>81536ad9-5ccf-4eb8-befb-47a4d608658e</td>\n",
              "      <td>Fully Paid</td>\n",
              "      <td>176220.0</td>\n",
              "      <td>Short Term</td>\n",
              "      <td>NaN</td>\n",
              "      <td>NaN</td>\n",
              "      <td>5 years</td>\n",
              "      <td>Rent</td>\n",
              "      <td>Debt Consolidation</td>\n",
              "      <td>20639.70</td>\n",
              "      <td>6.1</td>\n",
              "      <td>NaN</td>\n",
              "      <td>15.0</td>\n",
              "      <td>0.0</td>\n",
              "      <td>253460.0</td>\n",
              "      <td>427174.0</td>\n",
              "      <td>0.0</td>\n",
              "      <td>0.0</td>\n",
              "    </tr>\n",
              "  </tbody>\n",
              "</table>\n",
              "</div>"
            ],
            "text/plain": [
              "                                Loan ID  ... Tax Liens\n",
              "0  14dd8831-6af5-400b-83ec-68e61888a048  ...       0.0\n",
              "1  4771cc26-131a-45db-b5aa-537ea4ba5342  ...       0.0\n",
              "2  4eed4e6a-aa2f-4c91-8651-ce984ee8fb26  ...       0.0\n",
              "3  77598f7b-32e7-4e3b-a6e5-06ba0d98fe8a  ...       0.0\n",
              "4  d4062e70-befa-4995-8643-a0de73938182  ...       0.0\n",
              "\n",
              "[5 rows x 19 columns]"
            ]
          },
          "metadata": {
            "tags": []
          },
          "execution_count": 383
        }
      ]
    },
    {
      "cell_type": "code",
      "metadata": {
        "colab": {
          "base_uri": "https://localhost:8080/"
        },
        "id": "nNshq2qodt91",
        "outputId": "f8a34edf-dad9-4a49-94a7-74ab1b044518"
      },
      "source": [
        "df.shape"
      ],
      "execution_count": null,
      "outputs": [
        {
          "output_type": "execute_result",
          "data": {
            "text/plain": [
              "(100514, 19)"
            ]
          },
          "metadata": {
            "tags": []
          },
          "execution_count": 384
        }
      ]
    },
    {
      "cell_type": "code",
      "metadata": {
        "id": "r7NgjyHPqUYP"
      },
      "source": [
        "for i in df.columns:\n",
        "  print(len(df[i].unique()))"
      ],
      "execution_count": null,
      "outputs": []
    },
    {
      "cell_type": "code",
      "metadata": {
        "colab": {
          "base_uri": "https://localhost:8080/"
        },
        "id": "UxlipyBfduNN",
        "outputId": "f58a4003-b0d5-4fc5-b5ff-31a445cb1c73"
      },
      "source": [
        "df.info()"
      ],
      "execution_count": null,
      "outputs": [
        {
          "output_type": "stream",
          "name": "stdout",
          "text": [
            "<class 'pandas.core.frame.DataFrame'>\n",
            "RangeIndex: 100514 entries, 0 to 100513\n",
            "Data columns (total 19 columns):\n",
            " #   Column                        Non-Null Count   Dtype  \n",
            "---  ------                        --------------   -----  \n",
            " 0   Loan ID                       100000 non-null  object \n",
            " 1   Customer ID                   100000 non-null  object \n",
            " 2   Loan Status                   100000 non-null  object \n",
            " 3   Current Loan Amount           100000 non-null  float64\n",
            " 4   Term                          100000 non-null  object \n",
            " 5   Credit Score                  80846 non-null   float64\n",
            " 6   Annual Income                 80846 non-null   float64\n",
            " 7   Years in current job          95778 non-null   object \n",
            " 8   Home Ownership                100000 non-null  object \n",
            " 9   Purpose                       100000 non-null  object \n",
            " 10  Monthly Debt                  100000 non-null  float64\n",
            " 11  Years of Credit History       100000 non-null  float64\n",
            " 12  Months since last delinquent  46859 non-null   float64\n",
            " 13  Number of Open Accounts       100000 non-null  float64\n",
            " 14  Number of Credit Problems     100000 non-null  float64\n",
            " 15  Current Credit Balance        100000 non-null  float64\n",
            " 16  Maximum Open Credit           99998 non-null   float64\n",
            " 17  Bankruptcies                  99796 non-null   float64\n",
            " 18  Tax Liens                     99990 non-null   float64\n",
            "dtypes: float64(12), object(7)\n",
            "memory usage: 14.6+ MB\n"
          ]
        }
      ]
    },
    {
      "cell_type": "code",
      "metadata": {
        "colab": {
          "base_uri": "https://localhost:8080/"
        },
        "id": "oIMtO01zduPu",
        "outputId": "0682facc-6161-4fa9-c746-92560b4d0bf7"
      },
      "source": [
        "df.isna().sum()"
      ],
      "execution_count": null,
      "outputs": [
        {
          "output_type": "execute_result",
          "data": {
            "text/plain": [
              "Loan ID                           514\n",
              "Customer ID                       514\n",
              "Loan Status                       514\n",
              "Current Loan Amount               514\n",
              "Term                              514\n",
              "Credit Score                    19668\n",
              "Annual Income                   19668\n",
              "Years in current job             4736\n",
              "Home Ownership                    514\n",
              "Purpose                           514\n",
              "Monthly Debt                      514\n",
              "Years of Credit History           514\n",
              "Months since last delinquent    53655\n",
              "Number of Open Accounts           514\n",
              "Number of Credit Problems         514\n",
              "Current Credit Balance            514\n",
              "Maximum Open Credit               516\n",
              "Bankruptcies                      718\n",
              "Tax Liens                         524\n",
              "dtype: int64"
            ]
          },
          "metadata": {
            "tags": []
          },
          "execution_count": 386
        }
      ]
    },
    {
      "cell_type": "code",
      "metadata": {
        "colab": {
          "base_uri": "https://localhost:8080/",
          "height": 569
        },
        "id": "PJUhBz0aBUxP",
        "outputId": "6a8e34ad-3120-45fa-b29c-4a25f0f4f9c1"
      },
      "source": [
        "plt.figure(figsize=(20,8))\n",
        "sns.countplot(df['Purpose'])"
      ],
      "execution_count": null,
      "outputs": [
        {
          "output_type": "stream",
          "name": "stderr",
          "text": [
            "/usr/local/lib/python3.6/dist-packages/seaborn/_decorators.py:43: FutureWarning: Pass the following variable as a keyword arg: x. From version 0.12, the only valid positional argument will be `data`, and passing other arguments without an explicit keyword will result in an error or misinterpretation.\n",
            "  FutureWarning\n"
          ]
        },
        {
          "output_type": "execute_result",
          "data": {
            "text/plain": [
              "<matplotlib.axes._subplots.AxesSubplot at 0x7fa77156b6a0>"
            ]
          },
          "metadata": {
            "tags": []
          },
          "execution_count": 387
        },
        {
          "output_type": "display_data",
          "data": {
            "image/png": "[encoded data removed]",
            "text/plain": [
              "<Figure size 1440x576 with 1 Axes>"
            ]
          },
          "metadata": {
            "tags": [],
            "needs_background": "light"
          }
        }
      ]
    },
    {
      "cell_type": "code",
      "metadata": {
        "id": "6LbSM1QHeZlU"
      },
      "source": [
        "df.drop(labels=['Loan ID', 'Customer ID', 'Months since last delinquent','Purpose'], axis=1, inplace=True)"
      ],
      "execution_count": null,
      "outputs": []
    },
    {
      "cell_type": "code",
      "metadata": {
        "colab": {
          "base_uri": "https://localhost:8080/",
          "height": 453
        },
        "id": "g1-hCxSGeZp0",
        "outputId": "35a2c7fe-acd3-4c4a-9252-23ec2319d3bf"
      },
      "source": [
        "df.loc[df['Loan Status'].isna()]"
      ],
      "execution_count": null,
      "outputs": [
        {
          "output_type": "execute_result",
          "data": {
            "text/html": [
              "<div>\n",
              "<style scoped>\n",
              "    .dataframe tbody tr th:only-of-type {\n",
              "        vertical-align: middle;\n",
              "    }\n",
              "\n",
              "    .dataframe tbody tr th {\n",
              "        vertical-align: top;\n",
              "    }\n",
              "\n",
              "    .dataframe thead th {\n",
              "        text-align: right;\n",
              "    }\n",
              "</style>\n",
              "<table border=\"1\" class=\"dataframe\">\n",
              "  <thead>\n",
              "    <tr style=\"text-align: right;\">\n",
              "      <th></th>\n",
              "      <th>Loan Status</th>\n",
              "      <th>Current Loan Amount</th>\n",
              "      <th>Term</th>\n",
              "      <th>Credit Score</th>\n",
              "      <th>Annual Income</th>\n",
              "      <th>Years in current job</th>\n",
              "      <th>Home Ownership</th>\n",
              "      <th>Monthly Debt</th>\n",
              "      <th>Years of Credit History</th>\n",
              "      <th>Number of Open Accounts</th>\n",
              "      <th>Number of Credit Problems</th>\n",
              "      <th>Current Credit Balance</th>\n",
              "      <th>Maximum Open Credit</th>\n",
              "      <th>Bankruptcies</th>\n",
              "      <th>Tax Liens</th>\n",
              "    </tr>\n",
              "  </thead>\n",
              "  <tbody>\n",
              "    <tr>\n",
              "      <th>100000</th>\n",
              "      <td>NaN</td>\n",
              "      <td>NaN</td>\n",
              "      <td>NaN</td>\n",
              "      <td>NaN</td>\n",
              "      <td>NaN</td>\n",
              "      <td>NaN</td>\n",
              "      <td>NaN</td>\n",
              "      <td>NaN</td>\n",
              "      <td>NaN</td>\n",
              "      <td>NaN</td>\n",
              "      <td>NaN</td>\n",
              "      <td>NaN</td>\n",
              "      <td>NaN</td>\n",
              "      <td>NaN</td>\n",
              "      <td>NaN</td>\n",
              "    </tr>\n",
              "    <tr>\n",
              "      <th>100001</th>\n",
              "      <td>NaN</td>\n",
              "      <td>NaN</td>\n",
              "      <td>NaN</td>\n",
              "      <td>NaN</td>\n",
              "      <td>NaN</td>\n",
              "      <td>NaN</td>\n",
              "      <td>NaN</td>\n",
              "      <td>NaN</td>\n",
              "      <td>NaN</td>\n",
              "      <td>NaN</td>\n",
              "      <td>NaN</td>\n",
              "      <td>NaN</td>\n",
              "      <td>NaN</td>\n",
              "      <td>NaN</td>\n",
              "      <td>NaN</td>\n",
              "    </tr>\n",
              "    <tr>\n",
              "      <th>100002</th>\n",
              "      <td>NaN</td>\n",
              "      <td>NaN</td>\n",
              "      <td>NaN</td>\n",
              "      <td>NaN</td>\n",
              "      <td>NaN</td>\n",
              "      <td>NaN</td>\n",
              "      <td>NaN</td>\n",
              "      <td>NaN</td>\n",
              "      <td>NaN</td>\n",
              "      <td>NaN</td>\n",
              "      <td>NaN</td>\n",
              "      <td>NaN</td>\n",
              "      <td>NaN</td>\n",
              "      <td>NaN</td>\n",
              "      <td>NaN</td>\n",
              "    </tr>\n",
              "    <tr>\n",
              "      <th>100003</th>\n",
              "      <td>NaN</td>\n",
              "      <td>NaN</td>\n",
              "      <td>NaN</td>\n",
              "      <td>NaN</td>\n",
              "      <td>NaN</td>\n",
              "      <td>NaN</td>\n",
              "      <td>NaN</td>\n",
              "      <td>NaN</td>\n",
              "      <td>NaN</td>\n",
              "      <td>NaN</td>\n",
              "      <td>NaN</td>\n",
              "      <td>NaN</td>\n",
              "      <td>NaN</td>\n",
              "      <td>NaN</td>\n",
              "      <td>NaN</td>\n",
              "    </tr>\n",
              "    <tr>\n",
              "      <th>100004</th>\n",
              "      <td>NaN</td>\n",
              "      <td>NaN</td>\n",
              "      <td>NaN</td>\n",
              "      <td>NaN</td>\n",
              "      <td>NaN</td>\n",
              "      <td>NaN</td>\n",
              "      <td>NaN</td>\n",
              "      <td>NaN</td>\n",
              "      <td>NaN</td>\n",
              "      <td>NaN</td>\n",
              "      <td>NaN</td>\n",
              "      <td>NaN</td>\n",
              "      <td>NaN</td>\n",
              "      <td>NaN</td>\n",
              "      <td>NaN</td>\n",
              "    </tr>\n",
              "    <tr>\n",
              "      <th>...</th>\n",
              "      <td>...</td>\n",
              "      <td>...</td>\n",
              "      <td>...</td>\n",
              "      <td>...</td>\n",
              "      <td>...</td>\n",
              "      <td>...</td>\n",
              "      <td>...</td>\n",
              "      <td>...</td>\n",
              "      <td>...</td>\n",
              "      <td>...</td>\n",
              "      <td>...</td>\n",
              "      <td>...</td>\n",
              "      <td>...</td>\n",
              "      <td>...</td>\n",
              "      <td>...</td>\n",
              "    </tr>\n",
              "    <tr>\n",
              "      <th>100509</th>\n",
              "      <td>NaN</td>\n",
              "      <td>NaN</td>\n",
              "      <td>NaN</td>\n",
              "      <td>NaN</td>\n",
              "      <td>NaN</td>\n",
              "      <td>NaN</td>\n",
              "      <td>NaN</td>\n",
              "      <td>NaN</td>\n",
              "      <td>NaN</td>\n",
              "      <td>NaN</td>\n",
              "      <td>NaN</td>\n",
              "      <td>NaN</td>\n",
              "      <td>NaN</td>\n",
              "      <td>NaN</td>\n",
              "      <td>NaN</td>\n",
              "    </tr>\n",
              "    <tr>\n",
              "      <th>100510</th>\n",
              "      <td>NaN</td>\n",
              "      <td>NaN</td>\n",
              "      <td>NaN</td>\n",
              "      <td>NaN</td>\n",
              "      <td>NaN</td>\n",
              "      <td>NaN</td>\n",
              "      <td>NaN</td>\n",
              "      <td>NaN</td>\n",
              "      <td>NaN</td>\n",
              "      <td>NaN</td>\n",
              "      <td>NaN</td>\n",
              "      <td>NaN</td>\n",
              "      <td>NaN</td>\n",
              "      <td>NaN</td>\n",
              "      <td>NaN</td>\n",
              "    </tr>\n",
              "    <tr>\n",
              "      <th>100511</th>\n",
              "      <td>NaN</td>\n",
              "      <td>NaN</td>\n",
              "      <td>NaN</td>\n",
              "      <td>NaN</td>\n",
              "      <td>NaN</td>\n",
              "      <td>NaN</td>\n",
              "      <td>NaN</td>\n",
              "      <td>NaN</td>\n",
              "      <td>NaN</td>\n",
              "      <td>NaN</td>\n",
              "      <td>NaN</td>\n",
              "      <td>NaN</td>\n",
              "      <td>NaN</td>\n",
              "      <td>NaN</td>\n",
              "      <td>NaN</td>\n",
              "    </tr>\n",
              "    <tr>\n",
              "      <th>100512</th>\n",
              "      <td>NaN</td>\n",
              "      <td>NaN</td>\n",
              "      <td>NaN</td>\n",
              "      <td>NaN</td>\n",
              "      <td>NaN</td>\n",
              "      <td>NaN</td>\n",
              "      <td>NaN</td>\n",
              "      <td>NaN</td>\n",
              "      <td>NaN</td>\n",
              "      <td>NaN</td>\n",
              "      <td>NaN</td>\n",
              "      <td>NaN</td>\n",
              "      <td>NaN</td>\n",
              "      <td>NaN</td>\n",
              "      <td>NaN</td>\n",
              "    </tr>\n",
              "    <tr>\n",
              "      <th>100513</th>\n",
              "      <td>NaN</td>\n",
              "      <td>NaN</td>\n",
              "      <td>NaN</td>\n",
              "      <td>NaN</td>\n",
              "      <td>NaN</td>\n",
              "      <td>NaN</td>\n",
              "      <td>NaN</td>\n",
              "      <td>NaN</td>\n",
              "      <td>NaN</td>\n",
              "      <td>NaN</td>\n",
              "      <td>NaN</td>\n",
              "      <td>NaN</td>\n",
              "      <td>NaN</td>\n",
              "      <td>NaN</td>\n",
              "      <td>NaN</td>\n",
              "    </tr>\n",
              "  </tbody>\n",
              "</table>\n",
              "<p>514 rows × 15 columns</p>\n",
              "</div>"
            ],
            "text/plain": [
              "       Loan Status  Current Loan Amount  ... Bankruptcies  Tax Liens\n",
              "100000         NaN                  NaN  ...          NaN        NaN\n",
              "100001         NaN                  NaN  ...          NaN        NaN\n",
              "100002         NaN                  NaN  ...          NaN        NaN\n",
              "100003         NaN                  NaN  ...          NaN        NaN\n",
              "100004         NaN                  NaN  ...          NaN        NaN\n",
              "...            ...                  ...  ...          ...        ...\n",
              "100509         NaN                  NaN  ...          NaN        NaN\n",
              "100510         NaN                  NaN  ...          NaN        NaN\n",
              "100511         NaN                  NaN  ...          NaN        NaN\n",
              "100512         NaN                  NaN  ...          NaN        NaN\n",
              "100513         NaN                  NaN  ...          NaN        NaN\n",
              "\n",
              "[514 rows x 15 columns]"
            ]
          },
          "metadata": {
            "tags": []
          },
          "execution_count": 389
        }
      ]
    },
    {
      "cell_type": "code",
      "metadata": {
        "id": "D_3sRow7eaF7"
      },
      "source": [
        "df.drop(df.tail(514).index, inplace=True)"
      ],
      "execution_count": null,
      "outputs": []
    },
    {
      "cell_type": "code",
      "metadata": {
        "colab": {
          "base_uri": "https://localhost:8080/"
        },
        "id": "bOR404YkYd6n",
        "outputId": "7d485b7e-25ec-4915-acb2-979929826b51"
      },
      "source": [
        "x=['Current Loan Amount','Credit Score','Annual Income','Monthly Debt','Years of Credit History','Number of Open Accounts','Number of Credit Problems','Current Credit Balance','Maximum Open Credit','Bankruptcies','Tax Liens']\n",
        "for i in x:\n",
        "  print(i,\"mean\",df[i].mean())\n",
        "  print(i,\"median\",df[i].median())"
      ],
      "execution_count": null,
      "outputs": [
        {
          "output_type": "stream",
          "name": "stdout",
          "text": [
            "Current Loan Amount mean 11760447.38946\n",
            "Current Loan Amount median 312246.0\n",
            "Credit Score mean 1076.4560893550702\n",
            "Credit Score median 724.0\n",
            "Annual Income mean 1378276.559842169\n",
            "Annual Income median 1174162.0\n",
            "Monthly Debt mean 18472.412335799687\n",
            "Monthly Debt median 16220.3\n",
            "Years of Credit History mean 18.199140999999393\n",
            "Years of Credit History median 16.9\n",
            "Number of Open Accounts mean 11.12853\n",
            "Number of Open Accounts median 10.0\n",
            "Number of Credit Problems mean 0.16831\n",
            "Number of Credit Problems median 0.0\n",
            "Current Credit Balance mean 294637.38235\n",
            "Current Credit Balance median 209817.0\n",
            "Maximum Open Credit mean 760798.381747635\n",
            "Maximum Open Credit median 467874.0\n",
            "Bankruptcies mean 0.11774018998757466\n",
            "Bankruptcies median 0.0\n",
            "Tax Liens mean 0.029312931293129313\n",
            "Tax Liens median 0.0\n"
          ]
        }
      ]
    },
    {
      "cell_type": "code",
      "metadata": {
        "colab": {
          "base_uri": "https://localhost:8080/",
          "height": 569
        },
        "id": "LkhhpZyCZHyk",
        "outputId": "734af3cc-0e75-4b7f-d9a4-c4a27fce1215"
      },
      "source": [
        "plt.figure(figsize=(10,7))\n",
        "hm=df.corr()\n",
        "plot=sns.heatmap(hm, annot = True, color = 'blue', cmap = 'YlGn')\n",
        "plot.set(title='Heatmap')\n",
        "upper = hm.where(np.triu(np.ones(hm.shape), k=1).astype(np.bool))\n",
        "x = [column for column in upper.columns if any(upper[column] > 0.95)]\n",
        "df=df.drop(x,axis=1)"
      ],
      "execution_count": null,
      "outputs": [
        {
          "output_type": "display_data",
          "data": {
            "image/png": "[encoded data removed]",
            "text/plain": [
              "<Figure size 720x504 with 2 Axes>"
            ]
          },
          "metadata": {
            "tags": [],
            "needs_background": "light"
          }
        }
      ]
    },
    {
      "cell_type": "markdown",
      "metadata": {
        "id": "97AcGF2u-Dny"
      },
      "source": [
        "OUTLIERS ANALYSIS"
      ]
    },
    {
      "cell_type": "code",
      "metadata": {
        "id": "NcNnOUy4-byL"
      },
      "source": [
        "#Removing Outliers Using Z-Score\n",
        "\n",
        "from scipy import stats\n",
        "x=['Current Loan Amount','Annual Income','Monthly Debt','Years of Credit History','Number of Open Accounts','Number of Credit Problems','Current Credit Balance','Maximum Open Credit','Bankruptcies','Tax Liens']\n",
        "for i in x:\n",
        "  z=np.abs(stats.zscore(df[i]))\n",
        "  df=df[(z< 3)]\n"
      ],
      "execution_count": null,
      "outputs": []
    },
    {
      "cell_type": "code",
      "metadata": {
        "id": "9jYI6oMw-cv5"
      },
      "source": [
        "#Removing Outliers using IQR\n",
        "x=['Current Loan Amount','Credit Score','Annual Income','Monthly Debt','Years of Credit History','Number of Open Accounts','Number of Credit Problems','Current Credit Balance','Maximum Open Credit','Bankruptcies','Tax Liens']\n",
        "for i in x:\n",
        "  Q1 = df[i].quantile(0.25)\n",
        "  Q3 = df[i].quantile(0.75)\n",
        "  IQR = Q3 - Q1\n",
        "  df = df[~((df[i] < (Q1 - 1.5 * IQR)) |(df[i] > (Q3 + 1.5 * IQR)))]\n",
        "\n",
        "    \n",
        "\n"
      ],
      "execution_count": null,
      "outputs": []
    },
    {
      "cell_type": "code",
      "metadata": {
        "id": "cPG5xicK-w8K"
      },
      "source": [
        "#Removing Outliers Using Quantiles\n",
        "x=['Current Loan Amount','Credit Score','Annual Income','Monthly Debt','Years of Credit History','Number of Open Accounts','Number of Credit Problems','Current Credit Balance','Maximum Open Credit','Bankruptcies','Tax Liens']\n",
        "for i in x:\n",
        "  removed_outliers = df[i].between(df[i].quantile(.05), df[i].quantile(.95))\n",
        "  index_names = df[~removed_outliers].index\n",
        "  df.drop(index_names, inplace=True)\n"
      ],
      "execution_count": null,
      "outputs": []
    },
    {
      "cell_type": "code",
      "metadata": {
        "id": "pjx4CnM6-yhG"
      },
      "source": [
        "#Replacing Outliers[Using Quantiles] With NaN and Filling With KNN Imputer\n",
        "x=['Current Loan Amount','Credit Score','Annual Income','Monthly Debt','Years of Credit History','Number of Open Accounts','Number of Credit Problems','Current Credit Balance','Maximum Open Credit','Bankruptcies','Tax Liens']\n",
        "for i in x:\n",
        "  removed_outliers = df[i].between(df[i].quantile(.05), df[i].quantile(.95))\n",
        "  index_names = df[~removed_outliers].index\n",
        "  for r in index_names :\n",
        "    df[i][r]=np.nan\n",
        "\n",
        "from sklearn.impute import KNNImputer\n",
        "imp = KNNImputer(n_neighbors=5)\n",
        "x=['Current Loan Amount','Credit Score','Annual Income','Monthly Debt','Years of Credit History','Number of Open Accounts','Number of Credit Problems','Current Credit Balance','Maximum Open Credit','Bankruptcies','Tax Liens']\n",
        "for i in x:\n",
        "    df[[i]]=imp.fit_transform(df[[i]])\n"
      ],
      "execution_count": null,
      "outputs": []
    },
    {
      "cell_type": "markdown",
      "metadata": {
        "id": "2umTQNlck3bf"
      },
      "source": [
        "FILLING MISSING VALUES"
      ]
    },
    {
      "cell_type": "code",
      "metadata": {
        "id": "IAyhBJ3hjDpV"
      },
      "source": [
        "#fill with mode\n",
        "from sklearn.impute import SimpleImputer\n",
        "imp = SimpleImputer(strategy=\"most_frequent\")\n",
        "df.iloc[:,:]=imp.fit_transform(df)\n"
      ],
      "execution_count": null,
      "outputs": []
    },
    {
      "cell_type": "code",
      "metadata": {
        "id": "y7f6UB70lge2"
      },
      "source": [
        "#Filling with Iterative imputer\n",
        "from sklearn.experimental import enable_iterative_imputer\n",
        "from sklearn.impute import IterativeImputer \n",
        "imp = IterativeImputer() \n",
        "x=['Current Loan Amount','Credit Score','Annual Income','Monthly Debt','Years of Credit History','Number of Open Accounts','Number of Credit Problems','Current Credit Balance','Maximum Open Credit','Bankruptcies','Tax Liens']\n",
        "for i in x:\n",
        "  imp.fit(df[[i]]) \n",
        "  df[[i]]=imp.transform(df[[i]])\n",
        "   \n",
        "from sklearn.impute import SimpleImputer\n",
        "imp = SimpleImputer(strategy=\"most_frequent\")\n",
        "df.iloc[:,:]=imp.fit_transform(df)"
      ],
      "execution_count": null,
      "outputs": []
    },
    {
      "cell_type": "code",
      "metadata": {
        "id": "sGYdbJfDldSO"
      },
      "source": [
        "#filling with knn imputer\n",
        "from sklearn.impute import KNNImputer\n",
        "imp = KNNImputer(n_neighbors=5)\n",
        "x=['Current Loan Amount','Credit Score','Annual Income','Monthly Debt','Years of Credit History','Number of Open Accounts','Number of Credit Problems','Current Credit Balance','Maximum Open Credit','Bankruptcies','Tax Liens']\n",
        "for i in x:\n",
        "    df[[i]]=imp.fit_transform(df[[i]])\n",
        "\n",
        "from sklearn.impute import SimpleImputer\n",
        "imp = SimpleImputer(strategy=\"most_frequent\")\n",
        "df.iloc[:,:]=imp.fit_transform(df)    "
      ],
      "execution_count": null,
      "outputs": []
    },
    {
      "cell_type": "code",
      "metadata": {
        "id": "hpoXEjMMlals"
      },
      "source": [
        "#filling with mean\n",
        "from sklearn.impute import SimpleImputer\n",
        "imp = SimpleImputer(strategy=\"mean\")\n",
        "x=['Current Loan Amount','Credit Score','Annual Income','Monthly Debt','Years of Credit History','Number of Open Accounts','Number of Credit Problems','Current Credit Balance','Maximum Open Credit','Bankruptcies','Tax Liens']\n",
        "for i in x:\n",
        "    df[[i]]=imp.fit_transform(df[[i]])\n",
        "\n",
        "from sklearn.impute import SimpleImputer\n",
        "imp = SimpleImputer(strategy=\"most_frequent\")\n",
        "df.iloc[:,:]=imp.fit_transform(df)    "
      ],
      "execution_count": null,
      "outputs": []
    },
    {
      "cell_type": "code",
      "metadata": {
        "id": "FynaOmo8jDsP"
      },
      "source": [
        "#filling with median\n",
        "from sklearn.impute import SimpleImputer\n",
        "imp = SimpleImputer(strategy=\"median\")\n",
        "x=['Current Loan Amount','Credit Score','Annual Income','Monthly Debt','Years of Credit History','Number of Open Accounts','Number of Credit Problems','Current Credit Balance','Maximum Open Credit','Bankruptcies','Tax Liens']\n",
        "for i in x:\n",
        "    df[[i]]=imp.fit_transform(df[[i]])\n",
        "\n",
        "from sklearn.impute import SimpleImputer\n",
        "imp = SimpleImputer(strategy=\"most_frequent\")\n",
        "df.iloc[:,:]=imp.fit_transform(df)"
      ],
      "execution_count": null,
      "outputs": []
    },
    {
      "cell_type": "code",
      "metadata": {
        "id": "p35XspOejD6t"
      },
      "source": [
        "#filling with interpolate()\n",
        "df=df.interpolate(method ='linear', limit_direction ='both') "
      ],
      "execution_count": null,
      "outputs": []
    },
    {
      "cell_type": "markdown",
      "metadata": {
        "id": "1JavuB7Yntt9"
      },
      "source": [
        "DATA ENCODING"
      ]
    },
    {
      "cell_type": "code",
      "metadata": {
        "id": "oQaxFOp9oOGq"
      },
      "source": [
        "df['Loan Status'].replace((\"Fully Paid\",\"Charged Off\"),(1,0), inplace=True)\n",
        "df['Loan Status'] = df['Loan Status'].astype('category')"
      ],
      "execution_count": null,
      "outputs": []
    },
    {
      "cell_type": "code",
      "metadata": {
        "id": "uYsT0gJ9jD-n"
      },
      "source": [
        "#label encoding\n",
        "from sklearn.preprocessing import LabelEncoder\n",
        "labelencoder_Y=LabelEncoder()\n",
        "catg=['Term', 'Years in current job' ,'Home Ownership']\n",
        "for x in catg:\n",
        "  df[x]=labelencoder_Y.fit_transform(df[x])"
      ],
      "execution_count": null,
      "outputs": []
    },
    {
      "cell_type": "code",
      "metadata": {
        "id": "e3nICCJ1oJAn"
      },
      "source": [
        "catg=['Term', 'Years in current job' ,'Home Ownership']\n",
        "for x in catg:\n",
        "  df[x] = df[x].astype('category')\n"
      ],
      "execution_count": null,
      "outputs": []
    },
    {
      "cell_type": "code",
      "metadata": {
        "id": "iYsQAUePoZi0"
      },
      "source": [
        "#one hot encoding\n",
        "df=pd.get_dummies(df,columns=['Term', 'Years in current job' ,'Home Ownership'],drop_first=True)"
      ],
      "execution_count": null,
      "outputs": []
    },
    {
      "cell_type": "markdown",
      "metadata": {
        "id": "yI9WjjqO7FSe"
      },
      "source": [
        "SPLITTING DATASET"
      ]
    },
    {
      "cell_type": "code",
      "metadata": {
        "colab": {
          "base_uri": "https://localhost:8080/"
        },
        "id": "5f5aAVbtyZxF",
        "outputId": "48631906-6eb5-43bb-ba02-bcf84a2fadef"
      },
      "source": [
        "X = df.drop(['Loan Status'], axis=1).values\n",
        "y = df['Loan Status'].values\n",
        "\n",
        "# Splitting the dataset into the Training set and Test set\n",
        "from sklearn.model_selection import train_test_split\n",
        "from imblearn.combine import SMOTEENN\n",
        "smote_enn=SMOTEENN(random_state=100) \n",
        "X_smote_enn,y_smote_enn=smote_enn.fit_sample(X,y)\n",
        "X_train, X_test, y_train, y_test = train_test_split(X_smote_enn, y_smote_enn, test_size = 0.2, random_state = 101)\n",
        "\n"
      ],
      "execution_count": null,
      "outputs": [
        {
          "output_type": "stream",
          "name": "stderr",
          "text": [
            "/usr/local/lib/python3.6/dist-packages/sklearn/utils/deprecation.py:87: FutureWarning: Function safe_indexing is deprecated; safe_indexing is deprecated in version 0.22 and will be removed in version 0.24.\n",
            "  warnings.warn(msg, category=FutureWarning)\n",
            "/usr/local/lib/python3.6/dist-packages/sklearn/utils/deprecation.py:87: FutureWarning: Function safe_indexing is deprecated; safe_indexing is deprecated in version 0.22 and will be removed in version 0.24.\n",
            "  warnings.warn(msg, category=FutureWarning)\n",
            "/usr/local/lib/python3.6/dist-packages/sklearn/utils/deprecation.py:87: FutureWarning: Function safe_indexing is deprecated; safe_indexing is deprecated in version 0.22 and will be removed in version 0.24.\n",
            "  warnings.warn(msg, category=FutureWarning)\n",
            "/usr/local/lib/python3.6/dist-packages/sklearn/utils/deprecation.py:87: FutureWarning: Function safe_indexing is deprecated; safe_indexing is deprecated in version 0.22 and will be removed in version 0.24.\n",
            "  warnings.warn(msg, category=FutureWarning)\n"
          ]
        }
      ]
    },
    {
      "cell_type": "markdown",
      "metadata": {
        "id": "2BJzBDli7WkU"
      },
      "source": [
        "FEATURE SCALLING"
      ]
    },
    {
      "cell_type": "code",
      "metadata": {
        "id": "67qawxXj7VpO"
      },
      "source": [
        "# standard scalar\n",
        "from sklearn.preprocessing import StandardScaler\n",
        "sc = StandardScaler()\n",
        "X_train = sc.fit_transform(X_train)\n",
        "X_test = sc.transform(X_test)"
      ],
      "execution_count": null,
      "outputs": []
    },
    {
      "cell_type": "code",
      "metadata": {
        "id": "7mVEVFox7bX-"
      },
      "source": [
        "from sklearn.preprocessing import MinMaxScaler\n",
        "sc = MinMaxScaler()\n",
        "X_train = sc.fit_transform(X_train)\n",
        "X_test = sc.transform(X_test)"
      ],
      "execution_count": null,
      "outputs": []
    },
    {
      "cell_type": "markdown",
      "metadata": {
        "id": "BLO1u-cT8l1W"
      },
      "source": [
        "APPLYING DATA MINING ALGORITHM"
      ]
    },
    {
      "cell_type": "code",
      "metadata": {
        "colab": {
          "base_uri": "https://localhost:8080/"
        },
        "id": "7f83tQMkyZ0V",
        "outputId": "c6e033ac-7fca-4050-8e4a-a3388b14c95e"
      },
      "source": [
        "# Training the K-NN model on the Training set\n",
        "from sklearn.neighbors import KNeighborsClassifier\n",
        "knn = KNeighborsClassifier(n_neighbors = 3, metric = 'minkowski', p = 2)\n",
        "knn.fit(X_train, y_train)\n"
      ],
      "execution_count": null,
      "outputs": [
        {
          "output_type": "execute_result",
          "data": {
            "text/plain": [
              "KNeighborsClassifier(algorithm='auto', leaf_size=30, metric='minkowski',\n",
              "                     metric_params=None, n_jobs=None, n_neighbors=3, p=2,\n",
              "                     weights='uniform')"
            ]
          },
          "metadata": {
            "tags": []
          },
          "execution_count": 399
        }
      ]
    },
    {
      "cell_type": "code",
      "metadata": {
        "colab": {
          "base_uri": "https://localhost:8080/"
        },
        "id": "mUy8qCtdyZ4R",
        "outputId": "9dc62224-98d9-41bd-a3ae-16c3ed4bd588"
      },
      "source": [
        "# Training the Logistic Regression model on the Training set\n",
        "from sklearn.linear_model import LogisticRegression\n",
        "llr = LogisticRegression(random_state = 0)\n",
        "llr.fit(X_train, y_train)\n"
      ],
      "execution_count": null,
      "outputs": [
        {
          "output_type": "execute_result",
          "data": {
            "text/plain": [
              "LogisticRegression(C=1.0, class_weight=None, dual=False, fit_intercept=True,\n",
              "                   intercept_scaling=1, l1_ratio=None, max_iter=100,\n",
              "                   multi_class='auto', n_jobs=None, penalty='l2',\n",
              "                   random_state=0, solver='lbfgs', tol=0.0001, verbose=0,\n",
              "                   warm_start=False)"
            ]
          },
          "metadata": {
            "tags": []
          },
          "execution_count": 400
        }
      ]
    },
    {
      "cell_type": "code",
      "metadata": {
        "colab": {
          "base_uri": "https://localhost:8080/"
        },
        "id": "azsMqVyiyaIX",
        "outputId": "c78ca2c8-1928-49f6-b203-883660181b8c"
      },
      "source": [
        "# Training the Naive Bayes model on the Training set\n",
        "from sklearn.naive_bayes import GaussianNB\n",
        "nnb = GaussianNB()\n",
        "nnb.fit(X_train, y_train)"
      ],
      "execution_count": null,
      "outputs": [
        {
          "output_type": "execute_result",
          "data": {
            "text/plain": [
              "GaussianNB(priors=None, var_smoothing=1e-09)"
            ]
          },
          "metadata": {
            "tags": []
          },
          "execution_count": 401
        }
      ]
    },
    {
      "cell_type": "code",
      "metadata": {
        "colab": {
          "base_uri": "https://localhost:8080/"
        },
        "id": "2qUXAFm9yaMS",
        "outputId": "4d095019-4f06-4ae1-88a5-2fdcc1f94204"
      },
      "source": [
        "# Training the Decision Tree Classification model on the Training set\n",
        "from sklearn.tree import DecisionTreeClassifier\n",
        "ddt = DecisionTreeClassifier(criterion = 'entropy', random_state = 0)\n",
        "ddt.fit(X_train, y_train)\n"
      ],
      "execution_count": null,
      "outputs": [
        {
          "output_type": "execute_result",
          "data": {
            "text/plain": [
              "DecisionTreeClassifier(ccp_alpha=0.0, class_weight=None, criterion='entropy',\n",
              "                       max_depth=None, max_features=None, max_leaf_nodes=None,\n",
              "                       min_impurity_decrease=0.0, min_impurity_split=None,\n",
              "                       min_samples_leaf=1, min_samples_split=2,\n",
              "                       min_weight_fraction_leaf=0.0, presort='deprecated',\n",
              "                       random_state=0, splitter='best')"
            ]
          },
          "metadata": {
            "tags": []
          },
          "execution_count": 402
        }
      ]
    },
    {
      "cell_type": "code",
      "metadata": {
        "colab": {
          "base_uri": "https://localhost:8080/"
        },
        "id": "VW_1R22C8_Tt",
        "outputId": "386f76c5-5b30-4408-89c0-fcf82f665ec1"
      },
      "source": [
        "# Training the Random Forest Classification model on the Training set\n",
        "from sklearn.ensemble import RandomForestClassifier\n",
        "rrf = RandomForestClassifier(n_estimators = 20, criterion = 'entropy', random_state = 0)\n",
        "rrf.fit(X_train, y_train)\n"
      ],
      "execution_count": null,
      "outputs": [
        {
          "output_type": "execute_result",
          "data": {
            "text/plain": [
              "RandomForestClassifier(bootstrap=True, ccp_alpha=0.0, class_weight=None,\n",
              "                       criterion='entropy', max_depth=None, max_features='auto',\n",
              "                       max_leaf_nodes=None, max_samples=None,\n",
              "                       min_impurity_decrease=0.0, min_impurity_split=None,\n",
              "                       min_samples_leaf=1, min_samples_split=2,\n",
              "                       min_weight_fraction_leaf=0.0, n_estimators=20,\n",
              "                       n_jobs=None, oob_score=False, random_state=0, verbose=0,\n",
              "                       warm_start=False)"
            ]
          },
          "metadata": {
            "tags": []
          },
          "execution_count": 403
        }
      ]
    },
    {
      "cell_type": "code",
      "metadata": {
        "id": "Q_dr7-1W8_YA"
      },
      "source": [
        "from sklearn import preprocessing\n",
        "from sklearn.model_selection import cross_val_score, cross_val_predict\n",
        "from sklearn.metrics import accuracy_score, classification_report\n",
        "from sklearn.metrics import confusion_matrix, roc_auc_score\n",
        "def print_score(clf, X_train, X_test, y_train, y_test, train=True):\n",
        "    '''\n",
        "    v0.1 Follow the scikit learn library format in terms of input\n",
        "    print the accuracy score, classification report and confusion matrix of classifier\n",
        "    '''\n",
        "    lb = preprocessing.LabelBinarizer()\n",
        "    lb.fit(y_train)\n",
        "    if train:\n",
        "        '''\n",
        "        training performance\n",
        "        '''\n",
        "        res = clf.predict(X_train)\n",
        "        print(\"Train Result:\\n\")\n",
        "        print(\"accuracy score: {0:.4f}\\n\".format(accuracy_score(y_train, \n",
        "                                                                res)))\n",
        "        print(\"Classification Report: \\n {}\\n\".format(classification_report(y_train, \n",
        "                                                                            res)))\n",
        "        print(\"Confusion Matrix: \\n {}\\n\".format(confusion_matrix(y_train, \n",
        "                                                                  res)))\n",
        "        print(\"ROC AUC: {0:.4f}\\n\".format(roc_auc_score(lb.transform(y_train), \n",
        "                                                      lb.transform(res))))\n",
        "\n",
        "        res = cross_val_score(clf, X_train, y_train, cv=10, scoring='accuracy')\n",
        "        print(\"Average Accuracy: \\t {0:.4f}\".format(np.mean(res)))\n",
        "        print(\"Accuracy SD: \\t\\t {0:.4f}\".format(np.std(res)))\n",
        "        \n",
        "    elif train==False:\n",
        "        '''\n",
        "        test performance\n",
        "        '''\n",
        "        res_test = clf.predict(X_test)\n",
        "        print(\"Test Result:\\n\")        \n",
        "        print(\"accuracy score: {0:.4f}\\n\".format(accuracy_score(y_test, \n",
        "                                                                res_test)))\n",
        "        print(\"Classification Report: \\n {}\\n\".format(classification_report(y_test, \n",
        "                                                                            res_test)))\n",
        "        print(\"Confusion Matrix: \\n {}\\n\".format(confusion_matrix(y_test, \n",
        "                                                                  res_test)))   \n",
        "        print(\"ROC AUC: {0:.4f}\\n\".format(roc_auc_score(lb.transform(y_test), \n",
        "                                                      lb.transform(res_test))))\n",
        "        "
      ],
      "execution_count": null,
      "outputs": []
    },
    {
      "cell_type": "code",
      "metadata": {
        "colab": {
          "base_uri": "https://localhost:8080/"
        },
        "id": "oimm0eyR8_cx",
        "outputId": "e9266210-f74c-4836-ac38-0666bfce2b41"
      },
      "source": [
        "print_score(knn, X_train, X_test, y_train, y_test, train=True)"
      ],
      "execution_count": null,
      "outputs": [
        {
          "output_type": "stream",
          "name": "stdout",
          "text": [
            "Train Result:\n",
            "\n",
            "accuracy score: 0.9421\n",
            "\n",
            "Classification Report: \n",
            "               precision    recall  f1-score   support\n",
            "\n",
            "           0       0.94      0.96      0.95     20338\n",
            "           1       0.94      0.91      0.93     13950\n",
            "\n",
            "    accuracy                           0.94     34288\n",
            "   macro avg       0.94      0.94      0.94     34288\n",
            "weighted avg       0.94      0.94      0.94     34288\n",
            "\n",
            "\n",
            "Confusion Matrix: \n",
            " [[19576   762]\n",
            " [ 1224 12726]]\n",
            "\n",
            "ROC AUC: 0.9374\n",
            "\n",
            "Average Accuracy: \t 0.8470\n",
            "Accuracy SD: \t\t 0.0039\n"
          ]
        }
      ]
    },
    {
      "cell_type": "code",
      "metadata": {
        "colab": {
          "base_uri": "https://localhost:8080/"
        },
        "id": "zcDZgfmF8_hM",
        "outputId": "310f5f36-765e-40ab-ae54-fc2f23ecc1b8"
      },
      "source": [
        "print_score(knn, X_train, X_test, y_train, y_test, train=False)"
      ],
      "execution_count": null,
      "outputs": [
        {
          "output_type": "stream",
          "name": "stdout",
          "text": [
            "Test Result:\n",
            "\n",
            "accuracy score: 0.8538\n",
            "\n",
            "Classification Report: \n",
            "               precision    recall  f1-score   support\n",
            "\n",
            "           0       0.87      0.89      0.88      5213\n",
            "           1       0.83      0.79      0.81      3359\n",
            "\n",
            "    accuracy                           0.85      8572\n",
            "   macro avg       0.85      0.84      0.85      8572\n",
            "weighted avg       0.85      0.85      0.85      8572\n",
            "\n",
            "\n",
            "Confusion Matrix: \n",
            " [[4660  553]\n",
            " [ 700 2659]]\n",
            "\n",
            "ROC AUC: 0.8428\n",
            "\n"
          ]
        }
      ]
    },
    {
      "cell_type": "code",
      "metadata": {
        "colab": {
          "base_uri": "https://localhost:8080/"
        },
        "id": "2gXul4r58_lD",
        "outputId": "82626e13-3a80-4073-90f7-8ad09f231e82"
      },
      "source": [
        "print_score(llr, X_train, X_test, y_train, y_test, train=True)"
      ],
      "execution_count": null,
      "outputs": [
        {
          "output_type": "stream",
          "name": "stdout",
          "text": [
            "Train Result:\n",
            "\n",
            "accuracy score: 0.7422\n",
            "\n",
            "Classification Report: \n",
            "               precision    recall  f1-score   support\n",
            "\n",
            "           0       0.71      0.95      0.81     20338\n",
            "           1       0.85      0.44      0.58     13950\n",
            "\n",
            "    accuracy                           0.74     34288\n",
            "   macro avg       0.78      0.70      0.70     34288\n",
            "weighted avg       0.77      0.74      0.72     34288\n",
            "\n",
            "\n",
            "Confusion Matrix: \n",
            " [[19288  1050]\n",
            " [ 7789  6161]]\n",
            "\n",
            "ROC AUC: 0.6950\n",
            "\n",
            "Average Accuracy: \t 0.7421\n",
            "Accuracy SD: \t\t 0.0059\n"
          ]
        }
      ]
    },
    {
      "cell_type": "code",
      "metadata": {
        "colab": {
          "base_uri": "https://localhost:8080/"
        },
        "id": "aXEywZPh8_ok",
        "outputId": "91c1b88b-61f6-4d56-ae77-d276c9d530c5"
      },
      "source": [
        "print_score(llr, X_train, X_test, y_train, y_test, train=False)"
      ],
      "execution_count": null,
      "outputs": [
        {
          "output_type": "stream",
          "name": "stdout",
          "text": [
            "Test Result:\n",
            "\n",
            "accuracy score: 0.7485\n",
            "\n",
            "Classification Report: \n",
            "               precision    recall  f1-score   support\n",
            "\n",
            "           0       0.72      0.95      0.82      5213\n",
            "           1       0.84      0.44      0.58      3359\n",
            "\n",
            "    accuracy                           0.75      8572\n",
            "   macro avg       0.78      0.69      0.70      8572\n",
            "weighted avg       0.77      0.75      0.73      8572\n",
            "\n",
            "\n",
            "Confusion Matrix: \n",
            " [[4932  281]\n",
            " [1875 1484]]\n",
            "\n",
            "ROC AUC: 0.6939\n",
            "\n"
          ]
        }
      ]
    },
    {
      "cell_type": "code",
      "metadata": {
        "colab": {
          "base_uri": "https://localhost:8080/"
        },
        "id": "pQDd1EjV8_sw",
        "outputId": "1e1ccfde-015d-420b-ef1c-8ccc82ae1335"
      },
      "source": [
        "print_score(nnb, X_train, X_test, y_train, y_test, train=True)"
      ],
      "execution_count": null,
      "outputs": [
        {
          "output_type": "stream",
          "name": "stdout",
          "text": [
            "Train Result:\n",
            "\n",
            "accuracy score: 0.7376\n",
            "\n",
            "Classification Report: \n",
            "               precision    recall  f1-score   support\n",
            "\n",
            "           0       0.71      0.94      0.81     20338\n",
            "           1       0.84      0.44      0.57     13950\n",
            "\n",
            "    accuracy                           0.74     34288\n",
            "   macro avg       0.78      0.69      0.69     34288\n",
            "weighted avg       0.76      0.74      0.71     34288\n",
            "\n",
            "\n",
            "Confusion Matrix: \n",
            " [[19218  1120]\n",
            " [ 7876  6074]]\n",
            "\n",
            "ROC AUC: 0.6902\n",
            "\n",
            "Average Accuracy: \t 0.7371\n",
            "Accuracy SD: \t\t 0.0055\n"
          ]
        }
      ]
    },
    {
      "cell_type": "code",
      "metadata": {
        "colab": {
          "base_uri": "https://localhost:8080/"
        },
        "id": "MIcO89mM8_wr",
        "outputId": "3d12cb43-1ba7-462b-9daf-7e69f5054cbc"
      },
      "source": [
        "print_score(nnb, X_train, X_test, y_train, y_test, train=False)"
      ],
      "execution_count": null,
      "outputs": [
        {
          "output_type": "stream",
          "name": "stdout",
          "text": [
            "Test Result:\n",
            "\n",
            "accuracy score: 0.7486\n",
            "\n",
            "Classification Report: \n",
            "               precision    recall  f1-score   support\n",
            "\n",
            "           0       0.72      0.95      0.82      5213\n",
            "           1       0.84      0.44      0.58      3359\n",
            "\n",
            "    accuracy                           0.75      8572\n",
            "   macro avg       0.78      0.69      0.70      8572\n",
            "weighted avg       0.77      0.75      0.73      8572\n",
            "\n",
            "\n",
            "Confusion Matrix: \n",
            " [[4933  280]\n",
            " [1875 1484]]\n",
            "\n",
            "ROC AUC: 0.6940\n",
            "\n"
          ]
        }
      ]
    },
    {
      "cell_type": "code",
      "metadata": {
        "colab": {
          "base_uri": "https://localhost:8080/"
        },
        "id": "SLny0z889hn9",
        "outputId": "4bcabe92-7390-4e2c-ef41-77858a97e432"
      },
      "source": [
        "print_score(ddt, X_train, X_test, y_train, y_test, train=True)"
      ],
      "execution_count": null,
      "outputs": [
        {
          "output_type": "stream",
          "name": "stdout",
          "text": [
            "Train Result:\n",
            "\n",
            "accuracy score: 1.0000\n",
            "\n",
            "Classification Report: \n",
            "               precision    recall  f1-score   support\n",
            "\n",
            "           0       1.00      1.00      1.00     20338\n",
            "           1       1.00      1.00      1.00     13950\n",
            "\n",
            "    accuracy                           1.00     34288\n",
            "   macro avg       1.00      1.00      1.00     34288\n",
            "weighted avg       1.00      1.00      1.00     34288\n",
            "\n",
            "\n",
            "Confusion Matrix: \n",
            " [[20338     0]\n",
            " [    0 13950]]\n",
            "\n",
            "ROC AUC: 1.0000\n",
            "\n",
            "Average Accuracy: \t 0.8727\n",
            "Accuracy SD: \t\t 0.0056\n"
          ]
        }
      ]
    },
    {
      "cell_type": "code",
      "metadata": {
        "colab": {
          "base_uri": "https://localhost:8080/"
        },
        "id": "y_fZONj29hrn",
        "outputId": "a5eb957e-c151-4260-8bdb-238202472a4b"
      },
      "source": [
        "print_score(ddt, X_train, X_test, y_train, y_test, train=False)"
      ],
      "execution_count": null,
      "outputs": [
        {
          "output_type": "stream",
          "name": "stdout",
          "text": [
            "Test Result:\n",
            "\n",
            "accuracy score: 0.8808\n",
            "\n",
            "Classification Report: \n",
            "               precision    recall  f1-score   support\n",
            "\n",
            "           0       0.91      0.89      0.90      5213\n",
            "           1       0.84      0.86      0.85      3359\n",
            "\n",
            "    accuracy                           0.88      8572\n",
            "   macro avg       0.87      0.88      0.88      8572\n",
            "weighted avg       0.88      0.88      0.88      8572\n",
            "\n",
            "\n",
            "Confusion Matrix: \n",
            " [[4645  568]\n",
            " [ 454 2905]]\n",
            "\n",
            "ROC AUC: 0.8779\n",
            "\n"
          ]
        }
      ]
    },
    {
      "cell_type": "code",
      "metadata": {
        "colab": {
          "base_uri": "https://localhost:8080/"
        },
        "id": "XTvEwfun9hwL",
        "outputId": "574748d4-c849-43fe-a555-548bddc68b5f"
      },
      "source": [
        "print_score(rrf, X_train, X_test, y_train, y_test, train=True)"
      ],
      "execution_count": null,
      "outputs": [
        {
          "output_type": "stream",
          "name": "stdout",
          "text": [
            "Train Result:\n",
            "\n",
            "accuracy score: 0.9997\n",
            "\n",
            "Classification Report: \n",
            "               precision    recall  f1-score   support\n",
            "\n",
            "           0       1.00      1.00      1.00     20338\n",
            "           1       1.00      1.00      1.00     13950\n",
            "\n",
            "    accuracy                           1.00     34288\n",
            "   macro avg       1.00      1.00      1.00     34288\n",
            "weighted avg       1.00      1.00      1.00     34288\n",
            "\n",
            "\n",
            "Confusion Matrix: \n",
            " [[20326    12]\n",
            " [    0 13950]]\n",
            "\n",
            "ROC AUC: 0.9997\n",
            "\n",
            "Average Accuracy: \t 0.8981\n",
            "Accuracy SD: \t\t 0.0068\n"
          ]
        }
      ]
    },
    {
      "cell_type": "code",
      "metadata": {
        "colab": {
          "base_uri": "https://localhost:8080/"
        },
        "id": "ktIH5JFM9h0p",
        "outputId": "f00722a5-3002-40d9-937e-1dca29e6c153"
      },
      "source": [
        "print_score(rrf, X_train, X_test, y_train, y_test, train=False)"
      ],
      "execution_count": null,
      "outputs": [
        {
          "output_type": "stream",
          "name": "stdout",
          "text": [
            "Test Result:\n",
            "\n",
            "accuracy score: 0.8996\n",
            "\n",
            "Classification Report: \n",
            "               precision    recall  f1-score   support\n",
            "\n",
            "           0       0.94      0.89      0.91      5213\n",
            "           1       0.84      0.92      0.88      3359\n",
            "\n",
            "    accuracy                           0.90      8572\n",
            "   macro avg       0.89      0.90      0.90      8572\n",
            "weighted avg       0.90      0.90      0.90      8572\n",
            "\n",
            "\n",
            "Confusion Matrix: \n",
            " [[4625  588]\n",
            " [ 273 3086]]\n",
            "\n",
            "ROC AUC: 0.9030\n",
            "\n"
          ]
        }
      ]
    },
    {
      "cell_type": "markdown",
      "metadata": {
        "id": "MMDIUwGC_3vy"
      },
      "source": [
        "ENSEMBLE TECHNIQUE"
      ]
    },
    {
      "cell_type": "code",
      "metadata": {
        "id": "YidCvaXuYEQN"
      },
      "source": [
        "X = df.drop(['Loan Status'], axis=1)\n",
        "y = df['Loan Status']"
      ],
      "execution_count": null,
      "outputs": []
    },
    {
      "cell_type": "code",
      "metadata": {
        "colab": {
          "base_uri": "https://localhost:8080/"
        },
        "id": "zIfwKgp9_3Aw",
        "outputId": "957ff866-45a2-457b-80cc-bdfb8342a79b"
      },
      "source": [
        "from sklearn.svm import SVC\n",
        "from sklearn.tree import DecisionTreeClassifier\n",
        "from sklearn.ensemble import BaggingClassifier\n",
        "from sklearn.datasets import make_classification\n",
        "ddt = DecisionTreeClassifier(criterion = 'entropy', random_state = 40)\n",
        "X,y = make_classification(n_samples=100,n_features=15,n_informative=2, n_redundant=0,random_state=0, shuffle=False)\n",
        "smote_enn=SMOTEENN(random_state=100) \n",
        "X_smote_enn,y_smote_enn=smote_enn.fit_sample(X,y)\n",
        "X_train, X_test, y_train, y_test = train_test_split(X_smote_enn, y_smote_enn, test_size = 0.2, random_state = 101)\n",
        "#X_train, X_test, y_train, y_test = train_test_split(X, y, test_size = 0.25, random_state = 0)\n",
        "clf = BaggingClassifier(base_estimator=ddt,n_estimators=10, random_state=0).fit(X_train, y_train)\n",
        "\n"
      ],
      "execution_count": null,
      "outputs": [
        {
          "output_type": "stream",
          "name": "stderr",
          "text": [
            "/usr/local/lib/python3.6/dist-packages/sklearn/utils/deprecation.py:87: FutureWarning: Function safe_indexing is deprecated; safe_indexing is deprecated in version 0.22 and will be removed in version 0.24.\n",
            "  warnings.warn(msg, category=FutureWarning)\n",
            "/usr/local/lib/python3.6/dist-packages/sklearn/utils/deprecation.py:87: FutureWarning: Function safe_indexing is deprecated; safe_indexing is deprecated in version 0.22 and will be removed in version 0.24.\n",
            "  warnings.warn(msg, category=FutureWarning)\n",
            "/usr/local/lib/python3.6/dist-packages/sklearn/utils/deprecation.py:87: FutureWarning: Function safe_indexing is deprecated; safe_indexing is deprecated in version 0.22 and will be removed in version 0.24.\n",
            "  warnings.warn(msg, category=FutureWarning)\n",
            "/usr/local/lib/python3.6/dist-packages/sklearn/utils/deprecation.py:87: FutureWarning: Function safe_indexing is deprecated; safe_indexing is deprecated in version 0.22 and will be removed in version 0.24.\n",
            "  warnings.warn(msg, category=FutureWarning)\n"
          ]
        }
      ]
    },
    {
      "cell_type": "code",
      "metadata": {
        "colab": {
          "base_uri": "https://localhost:8080/"
        },
        "id": "UcUg_pdkAnS3",
        "outputId": "15ccb6da-beca-40b5-880b-112329be382b"
      },
      "source": [
        "print_score(clf, X_train, X_test, y_train, y_test, train=True)\n",
        "print_score(clf, X_train, X_test, y_train, y_test, train=False)"
      ],
      "execution_count": null,
      "outputs": [
        {
          "output_type": "stream",
          "name": "stdout",
          "text": [
            "Train Result:\n",
            "\n",
            "accuracy score: 1.0000\n",
            "\n",
            "Classification Report: \n",
            "               precision    recall  f1-score   support\n",
            "\n",
            "           0       1.00      1.00      1.00        22\n",
            "           1       1.00      1.00      1.00        17\n",
            "\n",
            "    accuracy                           1.00        39\n",
            "   macro avg       1.00      1.00      1.00        39\n",
            "weighted avg       1.00      1.00      1.00        39\n",
            "\n",
            "\n",
            "Confusion Matrix: \n",
            " [[22  0]\n",
            " [ 0 17]]\n",
            "\n",
            "ROC AUC: 1.0000\n",
            "\n",
            "Average Accuracy: \t 1.0000\n",
            "Accuracy SD: \t\t 0.0000\n",
            "Test Result:\n",
            "\n",
            "accuracy score: 1.0000\n",
            "\n",
            "Classification Report: \n",
            "               precision    recall  f1-score   support\n",
            "\n",
            "           0       1.00      1.00      1.00         6\n",
            "           1       1.00      1.00      1.00         4\n",
            "\n",
            "    accuracy                           1.00        10\n",
            "   macro avg       1.00      1.00      1.00        10\n",
            "weighted avg       1.00      1.00      1.00        10\n",
            "\n",
            "\n",
            "Confusion Matrix: \n",
            " [[6 0]\n",
            " [0 4]]\n",
            "\n",
            "ROC AUC: 1.0000\n",
            "\n"
          ]
        }
      ]
    },
    {
      "cell_type": "code",
      "metadata": {
        "colab": {
          "base_uri": "https://localhost:8080/"
        },
        "id": "CTD62fcY9h5I",
        "outputId": "0737946e-453a-4ef9-8972-d7d768e66c05"
      },
      "source": [
        "from sklearn.datasets import make_classification\n",
        "from sklearn.ensemble import GradientBoostingClassifier\n",
        "from sklearn.model_selection import train_test_split\n",
        "X,y = make_classification(n_samples=1000, n_features=20, n_informative=15, n_redundant=5, random_state=40)\n",
        "smote_enn=SMOTEENN(random_state=100) \n",
        "X_smote_enn,y_smote_enn=smote_enn.fit_sample(X,y)\n",
        "X_train, X_test, y_train, y_test = train_test_split(X_smote_enn, y_smote_enn, test_size = 0.2, random_state = 101)\n",
        "#X_train, X_test, y_train, y_test = train_test_split(X, y, test_size = 0.25, random_state = 0)\n",
        "clf = GradientBoostingClassifier(random_state=40)\n",
        "clf.fit(X_train, y_train)\n"
      ],
      "execution_count": null,
      "outputs": [
        {
          "output_type": "stream",
          "name": "stderr",
          "text": [
            "/usr/local/lib/python3.6/dist-packages/sklearn/utils/deprecation.py:87: FutureWarning: Function safe_indexing is deprecated; safe_indexing is deprecated in version 0.22 and will be removed in version 0.24.\n",
            "  warnings.warn(msg, category=FutureWarning)\n",
            "/usr/local/lib/python3.6/dist-packages/sklearn/utils/deprecation.py:87: FutureWarning: Function safe_indexing is deprecated; safe_indexing is deprecated in version 0.22 and will be removed in version 0.24.\n",
            "  warnings.warn(msg, category=FutureWarning)\n",
            "/usr/local/lib/python3.6/dist-packages/sklearn/utils/deprecation.py:87: FutureWarning: Function safe_indexing is deprecated; safe_indexing is deprecated in version 0.22 and will be removed in version 0.24.\n",
            "  warnings.warn(msg, category=FutureWarning)\n",
            "/usr/local/lib/python3.6/dist-packages/sklearn/utils/deprecation.py:87: FutureWarning: Function safe_indexing is deprecated; safe_indexing is deprecated in version 0.22 and will be removed in version 0.24.\n",
            "  warnings.warn(msg, category=FutureWarning)\n"
          ]
        },
        {
          "output_type": "execute_result",
          "data": {
            "text/plain": [
              "GradientBoostingClassifier(ccp_alpha=0.0, criterion='friedman_mse', init=None,\n",
              "                           learning_rate=0.1, loss='deviance', max_depth=3,\n",
              "                           max_features=None, max_leaf_nodes=None,\n",
              "                           min_impurity_decrease=0.0, min_impurity_split=None,\n",
              "                           min_samples_leaf=1, min_samples_split=2,\n",
              "                           min_weight_fraction_leaf=0.0, n_estimators=100,\n",
              "                           n_iter_no_change=None, presort='deprecated',\n",
              "                           random_state=40, subsample=1.0, tol=0.0001,\n",
              "                           validation_fraction=0.1, verbose=0,\n",
              "                           warm_start=False)"
            ]
          },
          "metadata": {
            "tags": []
          },
          "execution_count": 418
        }
      ]
    },
    {
      "cell_type": "code",
      "metadata": {
        "colab": {
          "base_uri": "https://localhost:8080/"
        },
        "id": "lro7Rnr59h-N",
        "outputId": "8c54c8bc-8fe3-4932-d317-9d5ce265d1b2"
      },
      "source": [
        "print_score(clf, X_train, X_test, y_train, y_test, train=True)\n",
        "print_score(clf, X_train, X_test, y_train, y_test, train=False)"
      ],
      "execution_count": null,
      "outputs": [
        {
          "output_type": "stream",
          "name": "stdout",
          "text": [
            "Train Result:\n",
            "\n",
            "accuracy score: 1.0000\n",
            "\n",
            "Classification Report: \n",
            "               precision    recall  f1-score   support\n",
            "\n",
            "           0       1.00      1.00      1.00       271\n",
            "           1       1.00      1.00      1.00       310\n",
            "\n",
            "    accuracy                           1.00       581\n",
            "   macro avg       1.00      1.00      1.00       581\n",
            "weighted avg       1.00      1.00      1.00       581\n",
            "\n",
            "\n",
            "Confusion Matrix: \n",
            " [[271   0]\n",
            " [  0 310]]\n",
            "\n",
            "ROC AUC: 1.0000\n",
            "\n",
            "Average Accuracy: \t 0.9363\n",
            "Accuracy SD: \t\t 0.0309\n",
            "Test Result:\n",
            "\n",
            "accuracy score: 0.9315\n",
            "\n",
            "Classification Report: \n",
            "               precision    recall  f1-score   support\n",
            "\n",
            "           0       0.93      0.93      0.93        74\n",
            "           1       0.93      0.93      0.93        72\n",
            "\n",
            "    accuracy                           0.93       146\n",
            "   macro avg       0.93      0.93      0.93       146\n",
            "weighted avg       0.93      0.93      0.93       146\n",
            "\n",
            "\n",
            "Confusion Matrix: \n",
            " [[69  5]\n",
            " [ 5 67]]\n",
            "\n",
            "ROC AUC: 0.9315\n",
            "\n"
          ]
        }
      ]
    },
    {
      "cell_type": "code",
      "metadata": {
        "colab": {
          "base_uri": "https://localhost:8080/"
        },
        "id": "K3ujRlv89iB9",
        "outputId": "96520599-c816-462b-85e9-c1987d1f2144"
      },
      "source": [
        "from sklearn.ensemble import AdaBoostClassifier\n",
        "from sklearn.datasets import make_classification\n",
        "X, y = make_classification(n_samples=1000, n_features=20,\n",
        "                            n_informative=2, n_redundant=0,\n",
        "                            random_state=40, shuffle=False)\n",
        "smote_enn=SMOTEENN(random_state=100) \n",
        "X_smote_enn,y_smote_enn=smote_enn.fit_sample(X,y)\n",
        "X_train, X_test, y_train, y_test = train_test_split(X_smote_enn, y_smote_enn, test_size = 0.2, random_state = 101)\n",
        "#X_train, X_test, y_train, y_test = train_test_split(X, y, test_size = 0.25, random_state = 0)\n",
        "clf = AdaBoostClassifier(n_estimators=100, random_state=40)\n",
        "clf.fit(X_train, y_train)\n",
        "#AdaBoostClassifier(n_estimators=100, random_state=40)\n",
        "\n",
        "\n",
        "#clf.score(X, y)\n",
        "\n"
      ],
      "execution_count": null,
      "outputs": [
        {
          "output_type": "stream",
          "name": "stderr",
          "text": [
            "/usr/local/lib/python3.6/dist-packages/sklearn/utils/deprecation.py:87: FutureWarning: Function safe_indexing is deprecated; safe_indexing is deprecated in version 0.22 and will be removed in version 0.24.\n",
            "  warnings.warn(msg, category=FutureWarning)\n",
            "/usr/local/lib/python3.6/dist-packages/sklearn/utils/deprecation.py:87: FutureWarning: Function safe_indexing is deprecated; safe_indexing is deprecated in version 0.22 and will be removed in version 0.24.\n",
            "  warnings.warn(msg, category=FutureWarning)\n",
            "/usr/local/lib/python3.6/dist-packages/sklearn/utils/deprecation.py:87: FutureWarning: Function safe_indexing is deprecated; safe_indexing is deprecated in version 0.22 and will be removed in version 0.24.\n",
            "  warnings.warn(msg, category=FutureWarning)\n",
            "/usr/local/lib/python3.6/dist-packages/sklearn/utils/deprecation.py:87: FutureWarning: Function safe_indexing is deprecated; safe_indexing is deprecated in version 0.22 and will be removed in version 0.24.\n",
            "  warnings.warn(msg, category=FutureWarning)\n"
          ]
        },
        {
          "output_type": "execute_result",
          "data": {
            "text/plain": [
              "AdaBoostClassifier(algorithm='SAMME.R', base_estimator=None, learning_rate=1.0,\n",
              "                   n_estimators=100, random_state=40)"
            ]
          },
          "metadata": {
            "tags": []
          },
          "execution_count": 420
        }
      ]
    },
    {
      "cell_type": "code",
      "metadata": {
        "colab": {
          "base_uri": "https://localhost:8080/"
        },
        "id": "oynZxa9YApmZ",
        "outputId": "c8b298f4-1308-4656-d3bb-6c2b311cec99"
      },
      "source": [
        "print_score(clf, X_train, X_test, y_train, y_test, train=True)\n",
        "print_score(clf, X_train, X_test, y_train, y_test, train=False)"
      ],
      "execution_count": null,
      "outputs": [
        {
          "output_type": "stream",
          "name": "stdout",
          "text": [
            "Train Result:\n",
            "\n",
            "accuracy score: 1.0000\n",
            "\n",
            "Classification Report: \n",
            "               precision    recall  f1-score   support\n",
            "\n",
            "           0       1.00      1.00      1.00       206\n",
            "           1       1.00      1.00      1.00       182\n",
            "\n",
            "    accuracy                           1.00       388\n",
            "   macro avg       1.00      1.00      1.00       388\n",
            "weighted avg       1.00      1.00      1.00       388\n",
            "\n",
            "\n",
            "Confusion Matrix: \n",
            " [[206   0]\n",
            " [  0 182]]\n",
            "\n",
            "ROC AUC: 1.0000\n",
            "\n",
            "Average Accuracy: \t 0.9948\n",
            "Accuracy SD: \t\t 0.0104\n",
            "Test Result:\n",
            "\n",
            "accuracy score: 0.9897\n",
            "\n",
            "Classification Report: \n",
            "               precision    recall  f1-score   support\n",
            "\n",
            "           0       0.98      1.00      0.99        57\n",
            "           1       1.00      0.97      0.99        40\n",
            "\n",
            "    accuracy                           0.99        97\n",
            "   macro avg       0.99      0.99      0.99        97\n",
            "weighted avg       0.99      0.99      0.99        97\n",
            "\n",
            "\n",
            "Confusion Matrix: \n",
            " [[57  0]\n",
            " [ 1 39]]\n",
            "\n",
            "ROC AUC: 0.9875\n",
            "\n"
          ]
        }
      ]
    },
    {
      "cell_type": "code",
      "metadata": {
        "colab": {
          "base_uri": "https://localhost:8080/",
          "height": 208
        },
        "id": "-Xwx-5qIATUH",
        "outputId": "bb2e5a1b-d655-43da-84ca-5687fa0568dd"
      },
      "source": [
        "# First XGBoost model for Pima Indians dataset\n",
        "from numpy import loadtxt\n",
        "from xgboost import XGBClassifier\n",
        "from sklearn.model_selection import train_test_split\n",
        "from sklearn.metrics import accuracy_score\n",
        "\n",
        "'''X = df.drop(['Loan Status'], axis=1)\n",
        "Y = df['Loan Status']'''\n",
        "smote_enn=SMOTEENN(random_state=100) \n",
        "X_smote_enn,y_smote_enn=smote_enn.fit_sample(X,y)\n",
        "X_train, X_test, y_train, y_test = train_test_split(X_smote_enn, y_smote_enn, test_size = 0.2, random_state = 101)\n",
        "#X_train, X_test, y_train, y_test = train_test_split(X, y, test_size=0.25, random_state=40)\n",
        "# fit model no training data\n",
        "model = XGBClassifier()\n",
        "model.fit(X_train, y_train)\n",
        "'''# make predictions for test data\n",
        "y_pred = model.predict(X_test)\n",
        "predictions = [round(value) for value in y_pred]\n",
        "# evaluate predictions\n",
        "accuracy = accuracy_score(y_test, predictions)\n",
        "print(\"Accuracy: %.2f%%\" % (accuracy * 100.0))'''"
      ],
      "execution_count": null,
      "outputs": [
        {
          "output_type": "stream",
          "name": "stderr",
          "text": [
            "/usr/local/lib/python3.6/dist-packages/sklearn/utils/deprecation.py:87: FutureWarning: Function safe_indexing is deprecated; safe_indexing is deprecated in version 0.22 and will be removed in version 0.24.\n",
            "  warnings.warn(msg, category=FutureWarning)\n",
            "/usr/local/lib/python3.6/dist-packages/sklearn/utils/deprecation.py:87: FutureWarning: Function safe_indexing is deprecated; safe_indexing is deprecated in version 0.22 and will be removed in version 0.24.\n",
            "  warnings.warn(msg, category=FutureWarning)\n",
            "/usr/local/lib/python3.6/dist-packages/sklearn/utils/deprecation.py:87: FutureWarning: Function safe_indexing is deprecated; safe_indexing is deprecated in version 0.22 and will be removed in version 0.24.\n",
            "  warnings.warn(msg, category=FutureWarning)\n",
            "/usr/local/lib/python3.6/dist-packages/sklearn/utils/deprecation.py:87: FutureWarning: Function safe_indexing is deprecated; safe_indexing is deprecated in version 0.22 and will be removed in version 0.24.\n",
            "  warnings.warn(msg, category=FutureWarning)\n"
          ]
        },
        {
          "output_type": "execute_result",
          "data": {
            "application/vnd.google.colaboratory.intrinsic+json": {
              "type": "string"
            },
            "text/plain": [
              "'# make predictions for test data\\ny_pred = model.predict(X_test)\\npredictions = [round(value) for value in y_pred]\\n# evaluate predictions\\naccuracy = accuracy_score(y_test, predictions)\\nprint(\"Accuracy: %.2f%%\" % (accuracy * 100.0))'"
            ]
          },
          "metadata": {
            "tags": []
          },
          "execution_count": 422
        }
      ]
    },
    {
      "cell_type": "code",
      "metadata": {
        "colab": {
          "base_uri": "https://localhost:8080/"
        },
        "id": "z3BN8WM6ATig",
        "outputId": "1cd97999-d698-45d5-8859-e154e96718bf"
      },
      "source": [
        "print_score(model, X_train, X_test, y_train, y_test, train=True)\n",
        "print_score(model, X_train, X_test, y_train, y_test, train=False)"
      ],
      "execution_count": null,
      "outputs": [
        {
          "output_type": "stream",
          "name": "stdout",
          "text": [
            "Train Result:\n",
            "\n",
            "accuracy score: 0.9974\n",
            "\n",
            "Classification Report: \n",
            "               precision    recall  f1-score   support\n",
            "\n",
            "           0       1.00      1.00      1.00       206\n",
            "           1       1.00      0.99      1.00       182\n",
            "\n",
            "    accuracy                           1.00       388\n",
            "   macro avg       1.00      1.00      1.00       388\n",
            "weighted avg       1.00      1.00      1.00       388\n",
            "\n",
            "\n",
            "Confusion Matrix: \n",
            " [[206   0]\n",
            " [  1 181]]\n",
            "\n",
            "ROC AUC: 0.9973\n",
            "\n",
            "Average Accuracy: \t 0.9948\n",
            "Accuracy SD: \t\t 0.0104\n",
            "Test Result:\n",
            "\n",
            "accuracy score: 0.9897\n",
            "\n",
            "Classification Report: \n",
            "               precision    recall  f1-score   support\n",
            "\n",
            "           0       0.98      1.00      0.99        57\n",
            "           1       1.00      0.97      0.99        40\n",
            "\n",
            "    accuracy                           0.99        97\n",
            "   macro avg       0.99      0.99      0.99        97\n",
            "weighted avg       0.99      0.99      0.99        97\n",
            "\n",
            "\n",
            "Confusion Matrix: \n",
            " [[57  0]\n",
            " [ 1 39]]\n",
            "\n",
            "ROC AUC: 0.9875\n",
            "\n"
          ]
        }
      ]
    },
    {
      "cell_type": "markdown",
      "metadata": {
        "id": "ErDG_L2ta0kQ"
      },
      "source": [
        "THE END"
      ]
    }
  ]
}